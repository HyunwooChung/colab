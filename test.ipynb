{
  "nbformat": 4,
  "nbformat_minor": 0,
  "metadata": {
    "colab": {
      "provenance": [],
      "authorship_tag": "ABX9TyOkQorB7/rl8j8mNvq0m5tz",
      "include_colab_link": true
    },
    "kernelspec": {
      "name": "python3",
      "display_name": "Python 3"
    },
    "language_info": {
      "name": "python"
    }
  },
  "cells": [
    {
      "cell_type": "markdown",
      "metadata": {
        "id": "view-in-github",
        "colab_type": "text"
      },
      "source": [
        "<a href=\"https://colab.research.google.com/github/HyunwooChung/colab/blob/main/test.ipynb\" target=\"_parent\"><img src=\"https://colab.research.google.com/assets/colab-badge.svg\" alt=\"Open In Colab\"/></a>"
      ]
    },
    {
      "cell_type": "code",
      "execution_count": null,
      "metadata": {
        "id": "D6fN6DEmKUR1"
      },
      "outputs": [],
      "source": [
        "a = 11\n",
        "\n",
        "print (a)\n",
        "\n"
      ]
    },
    {
      "cell_type": "markdown",
      "source": [
        "test 헤헤"
      ],
      "metadata": {
        "id": "pXyGRRlpKV2s"
      }
    }
  ]
}